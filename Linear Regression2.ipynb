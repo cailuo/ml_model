{
 "cells": [
  {
   "cell_type": "code",
   "execution_count": 1,
   "metadata": {},
   "outputs": [],
   "source": [
    "import numpy as np\n",
    "import matplotlib.pyplot as plt\n",
    "%matplotlib inline"
   ]
  },
  {
   "cell_type": "code",
   "execution_count": 2,
   "metadata": {},
   "outputs": [],
   "source": [
    "data=np.loadtxt('data/ex1data2.txt',delimiter=',',dtype=np.int64)\n",
    "X=data[:,0:2]\n",
    "y=data[:,2]\n",
    "m=y.size"
   ]
  },
  {
   "cell_type": "code",
   "execution_count": 3,
   "metadata": {},
   "outputs": [
    {
     "data": {
      "text/plain": [
       "(47, 2)"
      ]
     },
     "execution_count": 3,
     "metadata": {},
     "output_type": "execute_result"
    }
   ],
   "source": [
    "X.shape"
   ]
  },
  {
   "cell_type": "code",
   "execution_count": 4,
   "metadata": {},
   "outputs": [
    {
     "data": {
      "text/plain": [
       "(47,)"
      ]
     },
     "execution_count": 4,
     "metadata": {},
     "output_type": "execute_result"
    }
   ],
   "source": [
    "y.shape"
   ]
  },
  {
   "cell_type": "code",
   "execution_count": 5,
   "metadata": {},
   "outputs": [],
   "source": [
    "def feature_normalize(X):\n",
    "    n=X.shape[1]\n",
    "    X_norm=X\n",
    "    mu=np.zeros(n)\n",
    "    sigma=np.zeros(n)\n",
    "    \n",
    "    mu=np.mean(X,0)\n",
    "    sigma=np.std(X,0,ddof=1)\n",
    "    X_norm=(X-mu)/sigma\n",
    "    \n",
    "    return X_norm,mu,sigma"
   ]
  },
  {
   "cell_type": "code",
   "execution_count": 6,
   "metadata": {},
   "outputs": [],
   "source": [
    "X,mu,sigma=feature_normalize(X)\n",
    "X=np.c_[np.ones(m),X]       #Add a column of ones to X"
   ]
  },
  {
   "cell_type": "code",
   "execution_count": 7,
   "metadata": {},
   "outputs": [],
   "source": [
    "def compute_cost(X,y,theta):\n",
    "    m=y.size\n",
    "    cost=0\n",
    "    cost=np.sum((np.dot(X,theta) - y) ** 2) / (2 * m)\n",
    "    \n",
    "    return cost"
   ]
  },
  {
   "cell_type": "code",
   "execution_count": 8,
   "metadata": {},
   "outputs": [],
   "source": [
    "def gradient_descent_multi(X,y,theta,alpha,num_iters):\n",
    "    # Initial some useful values  为什么要初始化，不是很懂\n",
    "    m=y.size\n",
    "    J_history=np.zeros(num_iters)\n",
    "    \n",
    "    for i in range(0,num_iters):\n",
    "        error=np.dot(X,theta).flatten() - y     #对于每一次迭代，都会用所有的X和theta计算一次。\n",
    "        theta -= (alpha/m) * np.sum(X * error[:,np.newaxis],axis=0)         #np.newaxis为多维数组增加一个轴\n",
    "        \n",
    "        J_history[i]=compute_cost(X,y,theta)\n",
    "    return theta,J_history,error"
   ]
  },
  {
   "cell_type": "code",
   "execution_count": 9,
   "metadata": {},
   "outputs": [],
   "source": [
    "alpha=0.01\n",
    "num_iters=1500"
   ]
  },
  {
   "cell_type": "code",
   "execution_count": 10,
   "metadata": {},
   "outputs": [],
   "source": [
    "theta=np.zeros(3)\n",
    "theta,J_history,error=gradient_descent_multi(X,y,theta,alpha,num_iters)"
   ]
  },
  {
   "cell_type": "code",
   "execution_count": 11,
   "metadata": {},
   "outputs": [
    {
     "data": {
      "text/plain": [
       "Text(0,0.5,'Cost J')"
      ]
     },
     "execution_count": 11,
     "metadata": {},
     "output_type": "execute_result"
    },
    {
     "data": {
      "image/png": "[encoded data removed]",
      "text/plain": [
       "<Figure size 432x288 with 1 Axes>"
      ]
     },
     "metadata": {},
     "output_type": "display_data"
    }
   ],
   "source": [
    "plt.figure()\n",
    "plt.plot(np.arange(J_history.size), J_history)\n",
    "plt.xlabel('Number of iterations')\n",
    "plt.ylabel('Cost J')"
   ]
  },
  {
   "cell_type": "code",
   "execution_count": 12,
   "metadata": {},
   "outputs": [],
   "source": [
    "def plotConvergence(jvec):\n",
    "    plt.figure(figsize=(10,6))\n",
    "    plt.plot(range(len(jvec)),jvec,'bo')\n",
    "    plt.grid(True)\n",
    "    plt.title('Convergence of cost function')\n",
    "    plt.xlabel('Iteration number')\n",
    "    plt.ylabel('cost function')\n",
    "    dummy=plt.xlim([-0.05*num_iters,1.05*num_iters])"
   ]
  },
  {
   "cell_type": "code",
   "execution_count": 13,
   "metadata": {},
   "outputs": [
    {
     "data": {
      "image/png": "[encoded data removed]",
      "text/plain": [
       "<Figure size 720x432 with 1 Axes>"
      ]
     },
     "metadata": {},
     "output_type": "display_data"
    }
   ],
   "source": [
    "plotConvergence(J_history)\n",
    "# dummy=plt.ylim([4,7])   做了特征缩放之后，就用不到这一步了"
   ]
  },
  {
   "cell_type": "code",
   "execution_count": null,
   "metadata": {},
   "outputs": [],
   "source": []
  }
 ],
 "metadata": {
  "kernelspec": {
   "display_name": "Python [conda env:py3]",
   "language": "python",
   "name": "conda-env-py3-py"
  },
  "language_info": {
   "codemirror_mode": {
    "name": "ipython",
    "version": 3
   },
   "file_extension": ".py",
   "mimetype": "text/x-python",
   "name": "python",
   "nbconvert_exporter": "python",
   "pygments_lexer": "ipython3",
   "version": "3.6.5"
  }
 },
 "nbformat": 4,
 "nbformat_minor": 2
}
