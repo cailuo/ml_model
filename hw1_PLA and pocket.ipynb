{
 "cells": [
  {
   "cell_type": "code",
   "execution_count": 1,
   "metadata": {},
   "outputs": [],
   "source": [
    "# PLA: perceptron learning algorithm"
   ]
  },
  {
   "cell_type": "code",
   "execution_count": 2,
   "metadata": {},
   "outputs": [],
   "source": [
    "import sys\n",
    "import numpy as np\n",
    "import random as rd\n",
    "import matplotlib.pyplot as plt"
   ]
  },
  {
   "cell_type": "code",
   "execution_count": 3,
   "metadata": {},
   "outputs": [],
   "source": [
    "# learning rate\n",
    "rate = 1"
   ]
  },
  {
   "cell_type": "code",
   "execution_count": 30,
   "metadata": {},
   "outputs": [],
   "source": [
    "def pla_error_rate(features,lables,parameter_vector):    #计算pla算法的error_rate\n",
    "    length = len(features)\n",
    "    \n",
    "    right = 0\n",
    "    wrong = 0\n",
    "    \n",
    "    for i in range(length):\n",
    "        \n",
    "        if lables[i][0] * (np.dot(features[i], parameter_vector)[0]) <= 0:\n",
    "            wrong += 1\n",
    "        else: \n",
    "            right += 1\n",
    "    return float(wrong)/float(length)"
   ]
  },
  {
   "cell_type": "code",
   "execution_count": 5,
   "metadata": {},
   "outputs": [],
   "source": [
    "def pla_pocket(features,lables,index_array,max_update_times,rate=1):\n",
    "    w_pocket = np.zeros((5,1))\n",
    "    w = np.zeros((5,1))\n",
    "    sample_len = len(features)\n",
    "    flag = 1   #algorithm halts flag, 1 for running\n",
    "    index = 0\n",
    "    count = 0\n",
    "    while(flag):\n",
    "        feature_index = index_array[index]\n",
    "        #check if need update w\n",
    "        if lables[feature_index][0] * (np.dot(features[feature_index],w)[0]) <= 0:\n",
    "            #update w: w = w + yi * xi   b = b + yi\n",
    "            w = w + rate * lables[feature_index][0] * np.mat(features[feature_index]).T\n",
    "            count += 1\n",
    "            \n",
    "            #check if we need to update pocket\n",
    "            if pla_error_rate(features,lables,w) < pla_error_rate(features,lables,w_pocket):\n",
    "                w_pocket = w\n",
    "        if count >= max_update_times:\n",
    "            flag = 0\n",
    "        elif index >= sample_len -1 :\n",
    "            index = 0\n",
    "        else:\n",
    "            index += 1\n",
    "    return w_pocket, w"
   ]
  },
  {
   "cell_type": "code",
   "execution_count": 25,
   "metadata": {},
   "outputs": [],
   "source": [
    "file_path='data/hw1.txt'\n",
    "file_path2='data/hw1_pocket_train.txt'\n",
    "file_path3='data/hw1_pocket_test.txt'"
   ]
  },
  {
   "cell_type": "code",
   "execution_count": 7,
   "metadata": {},
   "outputs": [],
   "source": [
    "def load_data(file_path):\n",
    "    file_object = open(file_path)\n",
    "    try:\n",
    "        lines = file_object.readlines()\n",
    "    finally:\n",
    "        file_object.close()\n",
    "\n",
    "    sample_num = len(lines)\n",
    "\n",
    "    x = np.zeros((sample_num, 5))\n",
    "    y = np.zeros((sample_num, 1))\n",
    "\n",
    "    index = 0\n",
    "    for line in lines:\n",
    "        ### split feature and label\n",
    "        items = line.strip().split('\\t')\n",
    "        x[index][1:5] = np.array([float(num) for num in items[0].strip().split()])[:]\n",
    "        x[index][0] = 1\n",
    "        y[index][0] = float(items[1])\n",
    "        index += 1\n",
    "    return x,y"
   ]
  },
  {
   "cell_type": "code",
   "execution_count": 26,
   "metadata": {},
   "outputs": [],
   "source": [
    "x,y = load_data(file_path)\n",
    "X_train,y_train = load_data(file_path2)\n",
    "X_test,y_test = load_data(file_path3)"
   ]
  },
  {
   "cell_type": "code",
   "execution_count": 28,
   "metadata": {},
   "outputs": [
    {
     "data": {
      "text/plain": [
       "500"
      ]
     },
     "execution_count": 28,
     "metadata": {},
     "output_type": "execute_result"
    }
   ],
   "source": [
    "len(X_train)"
   ]
  },
  {
   "cell_type": "code",
   "execution_count": null,
   "metadata": {},
   "outputs": [],
   "source": []
  },
  {
   "cell_type": "code",
   "execution_count": 9,
   "metadata": {},
   "outputs": [],
   "source": [
    "def pla(features,lables,alpha=1):    #定义一个pla函数，传入features和lables，迭代速率alpha为1，返回迭代次数。\n",
    "    w=np.zeros((5,1))\n",
    "    sample_len=len(features)\n",
    "    flag = 1 #algorithm halts flag, 1 for running\n",
    "    index=0\n",
    "    right_items=0 # if right_items == feature len, algorithm halts\n",
    "    count=0\n",
    "    while(flag):\n",
    "        if lables[index][0] * (np.dot(features[index],w)[0]) <= 0:\n",
    "            w = w + lables[index][0] * np.mat(features[index]).T\n",
    "            right_item=0    #如果某条直线对某个点发生错误，则将正确的点数重置为0\n",
    "            count += 1    #修正一次错误，迭代次数加1\n",
    "        else:\n",
    "            right_item += 1        #如果这个点没有错误，则正确的点的数量+1\n",
    "            \n",
    "        if right_item >= sample_len:\n",
    "            flag=0        #当修正之后的点等于所有的点时，停止迭代\n",
    "        elif index >= sample_len -1:\n",
    "            index =0        #当所有的点都计算完成，重新开始新一轮的计算\n",
    "        else:\n",
    "            index +=1   #换 下一个点 进行计算\n",
    "            \n",
    "    return count "
   ]
  },
  {
   "cell_type": "code",
   "execution_count": 10,
   "metadata": {},
   "outputs": [
    {
     "data": {
      "text/plain": [
       "45"
      ]
     },
     "execution_count": 10,
     "metadata": {},
     "output_type": "execute_result"
    }
   ],
   "source": [
    "count = pla(x,y,1)\n",
    "count"
   ]
  },
  {
   "cell_type": "code",
   "execution_count": 11,
   "metadata": {},
   "outputs": [],
   "source": [
    "def pla_fix_index(features,lables,index_array,rate=1):   #使用不同的随机种子实现pla，返回每一次的迭代次数。\n",
    "    w=np.zeros((5,1))\n",
    "    sample_len=len(features)\n",
    "    flag=1\n",
    "    index=0\n",
    "    right_items=0\n",
    "    count=0\n",
    "    while(flag):\n",
    "        feature_index=index_array[index]\n",
    "        if lables[feature_index][0] * (np.dot(features[feature_index],w)[0]) <= 0:\n",
    "            w = w + rate * lables[feature_index][0] * np.mat(features[feature_index]).T\n",
    "            right_items=0\n",
    "            count+=1\n",
    "        else:\n",
    "            right_items +=1\n",
    "            \n",
    "        if right_items >= sample_len:\n",
    "            flag=0\n",
    "        elif index >= sample_len -1 :\n",
    "            index=0\n",
    "        else:\n",
    "            index +=1\n",
    "    return count"
   ]
  },
  {
   "cell_type": "code",
   "execution_count": 18,
   "metadata": {},
   "outputs": [],
   "source": [
    "update_times_array=[]\n",
    "for i in range(2000):    #一共做2000次试验\n",
    "    index_array=list(range(0,400))  \n",
    "    rd.shuffle(index_array)   #把0到399的序号打乱\n",
    "    update_times=pla_fix_index(x,y,index_array)  #传入打乱之后的index_array\n",
    "    update_times_array.append(update_times)    #记录迭代次数"
   ]
  },
  {
   "cell_type": "code",
   "execution_count": 19,
   "metadata": {},
   "outputs": [
    {
     "data": {
      "image/png": "[encoded data removed]",
      "text/plain": [
       "<Figure size 432x288 with 1 Axes>"
      ]
     },
     "metadata": {},
     "output_type": "display_data"
    }
   ],
   "source": [
    "bins=range(0,110,10)\n",
    "plt.hist(update_times_array,bins,rwidth=0.7,histtype='bar')\n",
    "plt.show()"
   ]
  },
  {
   "cell_type": "code",
   "execution_count": 23,
   "metadata": {},
   "outputs": [
    {
     "data": {
      "text/plain": [
       "40.112"
      ]
     },
     "execution_count": 23,
     "metadata": {},
     "output_type": "execute_result"
    }
   ],
   "source": [
    "np.array(update_times_array).mean()"
   ]
  },
  {
   "cell_type": "code",
   "execution_count": null,
   "metadata": {},
   "outputs": [],
   "source": []
  },
  {
   "cell_type": "code",
   "execution_count": 21,
   "metadata": {},
   "outputs": [],
   "source": [
    "update_times_array2=[]\n",
    "for i in range(2000):    #一共做2000次试验\n",
    "    index_array=list(range(0,400))  \n",
    "    rd.shuffle(index_array)   #把0到399的序号打乱\n",
    "    update_times=pla_fix_index(x,y,index_array,rate=0.5)  #传入打乱之后的index_array\n",
    "    update_times_array2.append(update_times)    #记录迭代次数"
   ]
  },
  {
   "cell_type": "code",
   "execution_count": 24,
   "metadata": {},
   "outputs": [
    {
     "data": {
      "text/plain": [
       "40.3435"
      ]
     },
     "execution_count": 24,
     "metadata": {},
     "output_type": "execute_result"
    }
   ],
   "source": [
    "np.array(update_times_array2).mean()"
   ]
  },
  {
   "cell_type": "code",
   "execution_count": null,
   "metadata": {},
   "outputs": [],
   "source": []
  },
  {
   "cell_type": "code",
   "execution_count": 39,
   "metadata": {},
   "outputs": [],
   "source": [
    "error_rate_array=[]\n",
    "w=np.zeros((5,1))\n",
    "w_50 = np.zeros((5,1))\n",
    "for i in range(5):\n",
    "    index_array=list(range(0,len(X_train)))\n",
    "    rd.shuffle(index_array)   #把0到499的序号打乱（X_train的长度）\n",
    "#     (w,w50) = pla_pocket(X_train,y_train,index_array,50)\n",
    "    (w,w50) = pla_pocket(X_train,y_train,index_array,100)\n",
    "\n",
    "    error_rate_array.append(pla_error_rate(X_test,y_test,w))\n",
    "#     error_rate_array.append(pla_error_rate(X_test,y_test,w50))"
   ]
  },
  {
   "cell_type": "code",
   "execution_count": 40,
   "metadata": {},
   "outputs": [
    {
     "data": {
      "text/plain": [
       "0.11000000000000001"
      ]
     },
     "execution_count": 40,
     "metadata": {},
     "output_type": "execute_result"
    }
   ],
   "source": [
    "np.array(error_rate_array).mean()"
   ]
  },
  {
   "cell_type": "code",
   "execution_count": null,
   "metadata": {},
   "outputs": [],
   "source": []
  }
 ],
 "metadata": {
  "kernelspec": {
   "display_name": "Python [conda env:py3]",
   "language": "python",
   "name": "conda-env-py3-py"
  },
  "language_info": {
   "codemirror_mode": {
    "name": "ipython",
    "version": 3
   },
   "file_extension": ".py",
   "mimetype": "text/x-python",
   "name": "python",
   "nbconvert_exporter": "python",
   "pygments_lexer": "ipython3",
   "version": "3.6.5"
  }
 },
 "nbformat": 4,
 "nbformat_minor": 2
}
